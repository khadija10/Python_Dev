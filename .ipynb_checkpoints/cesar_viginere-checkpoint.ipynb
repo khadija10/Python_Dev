{
 "cells": [
  {
   "cell_type": "code",
   "execution_count": 50,
   "id": "efed07f9-5579-4a2b-aa3e-7f773fe663c9",
   "metadata": {},
   "outputs": [],
   "source": [
    "import string"
   ]
  },
  {
   "cell_type": "code",
   "execution_count": 52,
   "id": "2365d2f8-81d7-4413-8963-25d83a8cc43e",
   "metadata": {},
   "outputs": [],
   "source": [
    "#Global variables\n",
    "alphabet = string.printable + \"éèêàôëùïü\""
   ]
  },
  {
   "cell_type": "code",
   "execution_count": 54,
   "id": "5319e23f-6b86-414f-950c-18f7cd93485a",
   "metadata": {},
   "outputs": [],
   "source": [
    "# Étape 1 : Chiffrement de César\n",
    "def cesar_cipher(message, key):\n",
    "    crypted_message = ''\n",
    "    for caracter in message:\n",
    "        original_index = alphabet.index(caracter)\n",
    "        cipher_index = (original_index + key) % len(alphabet)\n",
    "        crypted_message += alphabet[cipher_index]\n",
    "        \n",
    "    return crypted_message"
   ]
  },
  {
   "cell_type": "code",
   "execution_count": 56,
   "id": "9dab3af7-eb1d-4dcb-afe8-f861a3492291",
   "metadata": {},
   "outputs": [
    {
     "name": "stdout",
     "output_type": "stream",
     "text": [
      "0123456789abcdefghijklmnopqrstuvwxyzABCDEFGHIJKLMNOPQRSTUVWXYZ!\"#$%&'()*+,-./:;<=>?@[\\]^_`{|}~ \t\n",
      "\u000b",
      "\f",
      "éèêàôëùïü\n"
     ]
    }
   ],
   "source": [
    "print(alphabet)"
   ]
  },
  {
   "cell_type": "code",
   "execution_count": 58,
   "id": "fcb2097d-ae41-4079-b332-17174259224f",
   "metadata": {},
   "outputs": [],
   "source": [
    "#Parameters\n",
    "message = \"salut les bgs today on va corriger l'exercice\"\n",
    "key = 4\n",
    "crypted_message = cesar_cipher(message, key)"
   ]
  },
  {
   "cell_type": "code",
   "execution_count": 60,
   "id": "98ac9206-caa8-4d78-8181-5f89f6efc514",
   "metadata": {},
   "outputs": [
    {
     "name": "stdout",
     "output_type": "stream",
     "text": [
      "wepyx\u000b",
      "piw\u000b",
      "fkw\u000b",
      "xsheC\u000b",
      "sr\u000b",
      "ze\u000b",
      "gsvvmkiv\u000b",
      "p+iBivgmgi\n"
     ]
    }
   ],
   "source": [
    "#Print cesar_cipher\n",
    "print(crypted_message)"
   ]
  },
  {
   "cell_type": "code",
   "execution_count": 62,
   "id": "da2fbb57-13df-49b9-9d61-039f88641469",
   "metadata": {},
   "outputs": [],
   "source": [
    "# Étape 2 : Déchiffrement de César\n",
    "def cesar_dechiffre(crypted_message, key):\n",
    "    return cesar_cipher(crypted_message, -key)"
   ]
  },
  {
   "cell_type": "code",
   "execution_count": 64,
   "id": "3d1e46bc-e67d-4909-b32d-3d8e749e6cec",
   "metadata": {},
   "outputs": [
    {
     "name": "stdout",
     "output_type": "stream",
     "text": [
      "salut les bgs today on va corriger l'exercice\n"
     ]
    }
   ],
   "source": [
    "#Print cesar_cipher\n",
    "print(cesar_dechiffre(crypted_message, key))"
   ]
  },
  {
   "cell_type": "code",
   "execution_count": 66,
   "id": "ce297adb-99c1-417b-958a-91d063627ade",
   "metadata": {},
   "outputs": [],
   "source": [
    "# Étape 3 : Brute Force du Chiffrement de César\n",
    "def cesar_brute_force(crypted_message):\n",
    "    for key in range(len(alphabet)):  # Il y a 26 lettres dans l'alphabet\n",
    "        texte_dechiffre = cesar_dechiffre(crypted_message, key)\n",
    "        print(f'key {key}: {texte_dechiffre}')"
   ]
  },
  {
   "cell_type": "code",
   "execution_count": 68,
   "id": "9ec2d5a4-7074-48dc-b616-1fcd5d3ff07b",
   "metadata": {},
   "outputs": [],
   "source": [
    "#cesar_brute_force(crypted_message)"
   ]
  },
  {
   "cell_type": "code",
   "execution_count": 70,
   "id": "bf3c44e5-4f58-4e34-91c1-64ab68fd59ab",
   "metadata": {},
   "outputs": [],
   "source": [
    "#def convert_password_to_list_of_keys(password):\n",
    "#\tlist_of_keys = []\n",
    "#\tfor char in password:\n",
    "#\t\tlist_of_keys.append(alphabet.index(char))\n",
    "#\treturn list_of_keys"
   ]
  },
  {
   "cell_type": "code",
   "execution_count": 72,
   "id": "33d2db37-9796-476d-a4bd-97a4272db4b1",
   "metadata": {},
   "outputs": [],
   "source": [
    "#print(convert_password_to_list_of_keys(\"Kylian7#\"))"
   ]
  },
  {
   "cell_type": "code",
   "execution_count": 74,
   "id": "256c86cf-24d6-46ee-824d-27fbbed57a89",
   "metadata": {},
   "outputs": [],
   "source": [
    "def vigenere_cipher(message, password):\n",
    "    #list_of_keys = convert_password_to_list_of_keys(password)\n",
    "    list_of_keys = [alphabet.index(char) for char in password]\n",
    "    crypted_message_vi = \"\"\n",
    "    for index, char in enumerate(message):\n",
    "        current_key = list_of_keys[index % len(list_of_keys)] \n",
    "        crypted_message_vi += cesar_cipher(char, current_key)\n",
    "    return crypted_message_vi"
   ]
  },
  {
   "cell_type": "code",
   "execution_count": 76,
   "id": "4671770b-4bc4-48d3-933e-f86d17378261",
   "metadata": {},
   "outputs": [
    {
     "name": "stdout",
     "output_type": "stream",
     "text": [
      "MIGMD8s;MjwyC8A_xIT3yKè\tujxGBOp=yZ6D;BE;LKDuo\n"
     ]
    }
   ],
   "source": [
    "password = \"kylian7#\"\n",
    "texte_chiffre_vi = vigenere_cipher(message, password)\n",
    "print(texte_chiffre_vi)"
   ]
  },
  {
   "cell_type": "code",
   "execution_count": 78,
   "id": "0a9bc3b3-d5e3-404d-92ee-e8ab9586cd30",
   "metadata": {},
   "outputs": [],
   "source": [
    "def vigenere(message, password, reverse=False):\n",
    "\tlist_of_keys = [alphabet.index(char) for char in password]\n",
    "\tcrypted_message = \"\"\n",
    "\t\n",
    "\tfor index, char in  enumerate(message):\n",
    "\t\tcurrent_key = list_of_keys[index % len(list_of_keys)]\n",
    "\t\tcrypted_message += cesar_cipher(char, -current_key) if reverse else cesar_cipher(char, current_key)\n",
    "\n",
    "\treturn crypted_message"
   ]
  },
  {
   "cell_type": "code",
   "execution_count": 80,
   "id": "fedae6f2-37d8-4e91-ab60-7e861328b802",
   "metadata": {},
   "outputs": [
    {
     "name": "stdout",
     "output_type": "stream",
     "text": [
      "salut les bgs today on va corriger l'exercice\n"
     ]
    }
   ],
   "source": [
    "texte_dechiffre_vi_un = vigenere(texte_chiffre_vi, password, reverse=True)\n",
    "print(texte_dechiffre_vi_un)"
   ]
  },
  {
   "cell_type": "markdown",
   "id": "1f5a12af-f1c6-479e-bb2a-36bfcf27e9a0",
   "metadata": {},
   "source": [
    "Notes des cours"
   ]
  },
  {
   "cell_type": "code",
   "execution_count": 45,
   "id": "c305adfa-49bb-4c5c-bf76-d2833bfdd3c2",
   "metadata": {},
   "outputs": [
    {
     "name": "stdout",
     "output_type": "stream",
     "text": [
      "[0, 30, 60, 90]\n"
     ]
    }
   ],
   "source": [
    "#Notes\n",
    "#Comprehension list\n",
    "list = []\n",
    "for number in range(0, 100):\n",
    "    list.append(number)\n",
    "    \n",
    "list = [number for number in range(0, 100, 2) if (number%3 == 0) and (number%5 == 0) ]\n",
    "print(list)\n"
   ]
  },
  {
   "cell_type": "code",
   "execution_count": 1,
   "id": "56535646-36a9-4f35-bb9d-75c4ac5975df",
   "metadata": {},
   "outputs": [
    {
     "name": "stdout",
     "output_type": "stream",
     "text": [
      "0\n",
      "1\n",
      "2\n"
     ]
    }
   ],
   "source": [
    "## for else\n",
    "##avec break et return on accede pas au else de for-else\n",
    "for number in range(0, 100):\n",
    "    print(number)\n",
    "    if number == 2:\n",
    "        break\n",
    "else: \n",
    "    print(\"boucle fini\")\n",
    "    "
   ]
  },
  {
   "cell_type": "code",
   "execution_count": 8,
   "id": "5969a70e-0ff1-4b33-b3d2-af7a2b039b56",
   "metadata": {},
   "outputs": [
    {
     "name": "stdout",
     "output_type": "stream",
     "text": [
      "10\n"
     ]
    }
   ],
   "source": [
    "#lambda \n",
    "\n",
    "def add(a, b):\n",
    "    c = a + b\n",
    "    print(c)\n",
    "\n",
    "#en lamnda\n",
    "add = lambda a, b : a + b\n",
    "\n",
    "c = add(4, 6)\n",
    "\n",
    "print(c)"
   ]
  },
  {
   "cell_type": "code",
   "execution_count": null,
   "id": "0b196e16-f9fb-4db5-a06b-ec7b82ba7a1e",
   "metadata": {},
   "outputs": [],
   "source": [
    "#prime\n",
    "def is_prime(number):\n",
    "    if type(number) != int:\n",
    "        raise(\"the input is nota integer\")\n",
    "    elif number < 2:\n",
    "        return False\n",
    "    else:\n",
    "        for devider in range(2, number):\n",
    "            if number % devider == 0:\n",
    "                return False\n",
    "        return True"
   ]
  },
  {
   "cell_type": "code",
   "execution_count": 10,
   "id": "bcb96427-b01a-4cee-b93a-eebf0161ca60",
   "metadata": {},
   "outputs": [
    {
     "name": "stdout",
     "output_type": "stream",
     "text": [
      "[2, 3, 5, 7, 11, 13, 17, 19, 23, 29, 31, 37, 41, 43, 47, 53, 59, 61, 67, 71, 73, 79, 83, 89, 97, 101, 103, 107, 109, 113, 127, 131, 137, 139, 149, 151, 157, 163, 167, 173, 179, 181, 191, 193, 197, 199, 211, 223, 227, 229, 233, 239, 241, 251, 257, 263, 269, 271, 277, 281, 283, 293, 307, 311, 313, 317, 331, 337, 347, 349, 353, 359, 367, 373, 379, 383, 389, 397, 401, 409, 419, 421, 431, 433, 439, 443, 449, 457, 461, 463, 467, 479, 487, 491, 499, 503, 509, 521, 523, 541, 547, 557, 563, 569, 571, 577, 587, 593, 599, 601, 607, 613, 617, 619, 631, 641, 643, 647, 653, 659, 661, 673, 677, 683, 691, 701, 709, 719, 727, 733, 739, 743, 751, 757, 761, 769, 773, 787, 797, 809, 811, 821, 823, 827, 829, 839, 853, 857, 859, 863, 877, 881, 883, 887, 907, 911, 919, 929, 937, 941, 947, 953, 967, 971, 977, 983, 991, 997, 1009, 1013, 1019, 1021, 1031, 1033, 1039, 1049, 1051, 1061, 1063, 1069, 1087, 1091, 1093, 1097, 1103, 1109, 1117, 1123, 1129, 1151, 1153, 1163, 1171, 1181, 1187, 1193, 1201, 1213, 1217, 1223, 1229, 1231, 1237, 1249, 1259, 1277, 1279, 1283, 1289, 1291, 1297, 1301, 1303, 1307, 1319, 1321, 1327, 1361, 1367, 1373, 1381, 1399, 1409, 1423, 1427, 1429, 1433, 1439, 1447, 1451, 1453, 1459, 1471, 1481, 1483, 1487, 1489, 1493, 1499, 1511, 1523, 1531, 1543, 1549, 1553, 1559, 1567, 1571, 1579, 1583, 1597, 1601, 1607, 1609, 1613, 1619, 1621, 1627, 1637, 1657, 1663, 1667, 1669, 1693, 1697, 1699, 1709, 1721, 1723, 1733, 1741, 1747, 1753, 1759, 1777, 1783, 1787, 1789, 1801, 1811, 1823, 1831, 1847, 1861, 1867, 1871, 1873, 1877, 1879, 1889, 1901, 1907, 1913, 1931, 1933, 1949, 1951, 1973, 1979, 1987, 1993, 1997, 1999]\n"
     ]
    }
   ],
   "source": [
    "#prime whith for else\n",
    "def is_prime(number):\n",
    "    if type(number) != int:\n",
    "        raise(\"the input is nota integer\")\n",
    "    elif number < 2:\n",
    "        return False\n",
    "    else:\n",
    "        for devider in range(2, number):\n",
    "            if number % devider == 0:\n",
    "                return False\n",
    "        else:\n",
    "            return True\n",
    "\n",
    "prime_numbers = [number for number in range(0, 2000) if is_prime(number)]\n",
    "def vigenere_cipher(message, password):\n",
    "    #list_of_keys = convert_password_to_list_of_keys(password)\n",
    "    list_of_keys = [append(alphabet.index(char)) for char in password]\n",
    "    crypted_message_vi = \"\"\n",
    "    for index, char in enumerate(message):\n",
    "        current_key = list_of_keys[index % len(list_of_keys)] \n",
    "        crypted_message_vi += cesar_cipher(char, current_key)\n",
    "    return crypted_message_vi\n",
    "print(prime_numbers)"
   ]
  },
  {
   "cell_type": "code",
   "execution_count": null,
   "id": "932c8506-0aac-483b-b5f7-c60e0c526b73",
   "metadata": {},
   "outputs": [],
   "source": [
    "def vigenere_cipher(message, password):\n",
    "    #list_of_keys = convert_password_to_list_of_keys(password)\n",
    "    list_of_keys = [append(alphabet.index(char)) for char in password]\n",
    "    crypted_message_vi = \"\"\n",
    "    for index, char in enumerate(message):\n",
    "        current_key = list_of_keys[index % len(list_of_keys)] \n",
    "        crypted_message_vi += cesar_cipher(char, current_key)\n",
    "    return crypted_message_vi"
   ]
  },
  {
   "cell_type": "code",
   "execution_count": 122,
   "id": "baffb972-7610-4063-8627-a40cb0f64205",
   "metadata": {},
   "outputs": [
    {
     "name": "stdout",
     "output_type": "stream",
     "text": [
      "[0, 1]\n",
      "[0, 1]\n"
     ]
    }
   ],
   "source": [
    "def two_sum(nums, target):\n",
    "    num_to_index = {}  # pour srocker le num et son index\n",
    "    for index, num in enumerate(nums):\n",
    "        value = target - num\n",
    "        if value in num_to_index:\n",
    "            return [num_to_index[value], index]  # les petits inde\n",
    "        num_to_index[num] = index  # le nombre avec son index stockék \n",
    "\n",
    "\n",
    "nums = [3,4,5,6]\n",
    "target = 7\n",
    "print(two_sum(nums, target))  # Output: [0, 1]\n",
    "\n"
   ]
  },
  {
   "cell_type": "code",
   "execution_count": null,
   "id": "aa561ad2-fef0-40db-a48c-dac5d818e3db",
   "metadata": {},
   "outputs": [],
   "source": []
  }
 ],
 "metadata": {
  "kernelspec": {
   "display_name": "Python [conda env:base] *",
   "language": "python",
   "name": "conda-base-py"
  },
  "language_info": {
   "codemirror_mode": {
    "name": "ipython",
    "version": 3
   },
   "file_extension": ".py",
   "mimetype": "text/x-python",
   "name": "python",
   "nbconvert_exporter": "python",
   "pygments_lexer": "ipython3",
   "version": "3.12.7"
  }
 },
 "nbformat": 4,
 "nbformat_minor": 5
}
